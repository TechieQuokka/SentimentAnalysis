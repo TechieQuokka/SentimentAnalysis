{
 "cells": [
  {
   "cell_type": "code",
   "execution_count": 21,
   "id": "80d2d24e",
   "metadata": {},
   "outputs": [
    {
     "name": "stdout",
     "output_type": "stream",
     "text": [
      "🚀 GPU 정보:\n",
      "   디바이스: NVIDIA GeForce RTX 3060\n",
      "   메모리: 12.0 GB\n",
      "   CUDA 버전: 12.6\n",
      "   cuDNN 버전: 90501\n",
      "\n",
      "📊 IMDB 감정분석 데이터셋 로드 중...\n",
      "   훈련 데이터: 25,000개\n",
      "   테스트 데이터: 25,000개\n",
      "\n",
      "📝 데이터 샘플:\n",
      "   라벨: 0 (부정)\n",
      "   텍스트 (일부): I rented I AM CURIOUS-YELLOW from my video store because of all the controversy that surrounded it when it was first released in 1967. I also heard that at first it was seized by U.S. customs if it ev...\n",
      "\n",
      "⚙️ 모델 설정:\n",
      "   model_name: distilbert-base-uncased\n",
      "   max_length: 256\n",
      "   batch_size: 32\n",
      "   learning_rate: 2e-05\n",
      "   warmup_ratio: 0.1\n",
      "   weight_decay: 0.01\n",
      "   max_epochs: 100\n",
      "   patience: 3\n",
      "   target_accuracy: 0.93\n",
      "\n",
      "🔤 토크나이저 로드: distilbert-base-uncased\n"
     ]
    }
   ],
   "source": [
    "import torch\n",
    "import torch.nn as nn\n",
    "import torch.optim as optim\n",
    "from torch.utils.data import Dataset, DataLoader, random_split\n",
    "from transformers import (\n",
    "    AutoTokenizer, AutoModel, AutoConfig,\n",
    "    get_linear_schedule_with_warmup, get_cosine_schedule_with_warmup\n",
    ")\n",
    "from datasets import load_dataset\n",
    "import numpy as np\n",
    "import pandas as pd\n",
    "from tqdm.auto import tqdm\n",
    "import matplotlib.pyplot as plt\n",
    "import seaborn as sns\n",
    "from sklearn.metrics import classification_report, confusion_matrix, f1_score\n",
    "import warnings\n",
    "import os\n",
    "import time\n",
    "from datetime import datetime\n",
    "import gc\n",
    "\n",
    "warnings.filterwarnings('ignore')\n",
    "\n",
    "# RTX 3060 최적화 설정\n",
    "def setup_gpu_optimization():\n",
    "    if torch.cuda.is_available():\n",
    "        # 메모리 효율성을 위한 설정\n",
    "        torch.backends.cudnn.benchmark = True\n",
    "        torch.backends.cudnn.deterministic = False\n",
    "        \n",
    "        # 메모리 할당 최적화\n",
    "        os.environ['PYTORCH_CUDA_ALLOC_CONF'] = 'max_split_size_mb:512'\n",
    "        \n",
    "        print(f\"🚀 GPU 정보:\")\n",
    "        print(f\"   디바이스: {torch.cuda.get_device_name(0)}\")\n",
    "        print(f\"   메모리: {torch.cuda.get_device_properties(0).total_memory / 1024**3:.1f} GB\")\n",
    "        print(f\"   CUDA 버전: {torch.version.cuda}\")\n",
    "        print(f\"   cuDNN 버전: {torch.backends.cudnn.version()}\")\n",
    "        return torch.device('cuda')\n",
    "    else:\n",
    "        print(\"⚠️ CUDA를 사용할 수 없습니다. CPU를 사용합니다.\")\n",
    "        return torch.device('cpu')\n",
    "\n",
    "device = setup_gpu_optimization()\n",
    "\n",
    "# 데이터셋 로드 및 전처리\n",
    "print(\"\\n📊 IMDB 감정분석 데이터셋 로드 중...\")\n",
    "dataset = load_dataset(\"imdb\")\n",
    "\n",
    "print(f\"   훈련 데이터: {len(dataset['train']):,}개\")\n",
    "print(f\"   테스트 데이터: {len(dataset['test']):,}개\")\n",
    "\n",
    "# 데이터 샘플 확인\n",
    "print(f\"\\n📝 데이터 샘플:\")\n",
    "sample = dataset['train'][0]\n",
    "print(f\"   라벨: {sample['label']} ({'긍정' if sample['label'] == 1 else '부정'})\")\n",
    "print(f\"   텍스트 (일부): {sample['text'][:200]}...\")\n",
    "\n",
    "# 모델 설정 (RTX 3060에 최적화)\n",
    "MODEL_CONFIG = {\n",
    "    'model_name': 'distilbert-base-uncased',  # 경량화된 BERT\n",
    "    'max_length': 256,  # 메모리 효율성을 위해 조정\n",
    "    'batch_size': 32,   # RTX 3060에 최적\n",
    "    'learning_rate': 2e-5,\n",
    "    'warmup_ratio': 0.1,\n",
    "    'weight_decay': 0.01,\n",
    "    'max_epochs': 100,\n",
    "    'patience': 3,      # Early stopping\n",
    "    'target_accuracy': 0.93,  # 목표 정확도\n",
    "}\n",
    "\n",
    "print(f\"\\n⚙️ 모델 설정:\")\n",
    "for key, value in MODEL_CONFIG.items():\n",
    "    print(f\"   {key}: {value}\")\n",
    "\n",
    "# 토크나이저 로드\n",
    "print(f\"\\n🔤 토크나이저 로드: {MODEL_CONFIG['model_name']}\")\n",
    "tokenizer = AutoTokenizer.from_pretrained(MODEL_CONFIG['model_name'])\n",
    "\n",
    "# 커스텀 데이터셋 클래스\n",
    "class IMDBDataset(Dataset):\n",
    "    def __init__(self, texts, labels, tokenizer, max_length):\n",
    "        self.texts = texts\n",
    "        self.labels = labels\n",
    "        self.tokenizer = tokenizer\n",
    "        self.max_length = max_length\n",
    "        \n",
    "    def __len__(self):\n",
    "        return len(self.texts)\n",
    "    \n",
    "    def __getitem__(self, idx):\n",
    "        text = str(self.texts[idx])\n",
    "        label = self.labels[idx]\n",
    "        \n",
    "        # 토큰화\n",
    "        encoding = self.tokenizer(\n",
    "            text,\n",
    "            add_special_tokens=True,\n",
    "            max_length=self.max_length,\n",
    "            padding='max_length',\n",
    "            truncation=True,\n",
    "            return_attention_mask=True,\n",
    "            return_tensors='pt'\n",
    "        )\n",
    "        \n",
    "        return {\n",
    "            'input_ids': encoding['input_ids'].flatten(),\n",
    "            'attention_mask': encoding['attention_mask'].flatten(),\n",
    "            'label': torch.tensor(label, dtype=torch.long)\n",
    "        }"
   ]
  },
  {
   "cell_type": "code",
   "execution_count": 22,
   "id": "06917274",
   "metadata": {},
   "outputs": [
    {
     "name": "stdout",
     "output_type": "stream",
     "text": [
      "\n",
      "🔄 데이터 전처리 중...\n",
      "   훈련: 22,500개\n",
      "   검증: 2,500개\n",
      "   테스트: 25,000개\n",
      "   배치 수 - 훈련: 704, 검증: 79, 테스트: 782\n",
      "\n",
      "🤖 모델 초기화: distilbert-base-uncased\n",
      "   전체 파라미터: 66,364,418\n",
      "   훈련 가능 파라미터: 66,364,418\n",
      "   전체 스텝: 70,400\n",
      "   워밍업 스텝: 7,040\n"
     ]
    }
   ],
   "source": [
    "# 데이터 전처리 및 분할\n",
    "print(\"\\n🔄 데이터 전처리 중...\")\n",
    "\n",
    "# 훈련 데이터에서 validation set 분리 (90% train, 10% val)\n",
    "train_texts = dataset['train']['text']\n",
    "train_labels = dataset['train']['label']\n",
    "test_texts = dataset['test']['text']\n",
    "test_labels = dataset['test']['label']\n",
    "\n",
    "# 훈련/검증 분할\n",
    "train_size = int(0.9 * len(train_texts))\n",
    "val_size = len(train_texts) - train_size\n",
    "\n",
    "train_texts_split = train_texts[:train_size]\n",
    "train_labels_split = train_labels[:train_size]\n",
    "val_texts = train_texts[train_size:]\n",
    "val_labels = train_labels[train_size:]\n",
    "\n",
    "print(f\"   훈련: {len(train_texts_split):,}개\")\n",
    "print(f\"   검증: {len(val_texts):,}개\") \n",
    "print(f\"   테스트: {len(test_texts):,}개\")\n",
    "\n",
    "# 데이터셋 생성\n",
    "train_dataset = IMDBDataset(train_texts_split, train_labels_split, tokenizer, MODEL_CONFIG['max_length'])\n",
    "val_dataset = IMDBDataset(val_texts, val_labels, tokenizer, MODEL_CONFIG['max_length'])\n",
    "test_dataset = IMDBDataset(test_texts, test_labels, tokenizer, MODEL_CONFIG['max_length'])\n",
    "\n",
    "# 데이터 로더 생성\n",
    "train_loader = DataLoader(train_dataset, batch_size=MODEL_CONFIG['batch_size'], shuffle=True, num_workers=0)\n",
    "val_loader = DataLoader(val_dataset, batch_size=MODEL_CONFIG['batch_size'], shuffle=False, num_workers=0)\n",
    "test_loader = DataLoader(test_dataset, batch_size=MODEL_CONFIG['batch_size'], shuffle=False, num_workers=0)\n",
    "\n",
    "print(f\"   배치 수 - 훈련: {len(train_loader)}, 검증: {len(val_loader)}, 테스트: {len(test_loader)}\")\n",
    "\n",
    "# BERT 기반 감정분석 모델\n",
    "class SentimentBERT(nn.Module):\n",
    "    def __init__(self, model_name, num_classes=2, dropout=0.3):\n",
    "        super(SentimentBERT, self).__init__()\n",
    "        \n",
    "        # BERT 모델 로드\n",
    "        self.config = AutoConfig.from_pretrained(model_name)\n",
    "        self.bert = AutoModel.from_pretrained(model_name)\n",
    "        \n",
    "        # 분류 헤드\n",
    "        self.dropout = nn.Dropout(dropout)\n",
    "        self.classifier = nn.Linear(self.config.hidden_size, num_classes)\n",
    "        \n",
    "        # 가중치 초기화\n",
    "        self._init_weights()\n",
    "        \n",
    "    def _init_weights(self):\n",
    "        nn.init.normal_(self.classifier.weight, std=0.02)\n",
    "        nn.init.zeros_(self.classifier.bias)\n",
    "        \n",
    "    def forward(self, input_ids, attention_mask):\n",
    "        # BERT 인코딩\n",
    "        outputs = self.bert(\n",
    "            input_ids=input_ids,\n",
    "            attention_mask=attention_mask\n",
    "        )\n",
    "        \n",
    "        # [CLS] 토큰의 representation 사용 (DistilBERT는 pooler_output이 없음)\n",
    "        # last_hidden_state의 첫 번째 토큰([CLS])을 사용\n",
    "        last_hidden_state = outputs.last_hidden_state\n",
    "        cls_representation = last_hidden_state[:, 0, :]  # [CLS] 토큰\n",
    "        \n",
    "        pooled_output = self.dropout(cls_representation)\n",
    "        \n",
    "        # 분류\n",
    "        logits = self.classifier(pooled_output)\n",
    "        return logits\n",
    "\n",
    "# 모델 초기화\n",
    "print(f\"\\n🤖 모델 초기화: {MODEL_CONFIG['model_name']}\")\n",
    "model = SentimentBERT(MODEL_CONFIG['model_name']).to(device)\n",
    "\n",
    "# 모델 파라미터 수 계산\n",
    "total_params = sum(p.numel() for p in model.parameters())\n",
    "trainable_params = sum(p.numel() for p in model.parameters() if p.requires_grad)\n",
    "\n",
    "print(f\"   전체 파라미터: {total_params:,}\")\n",
    "print(f\"   훈련 가능 파라미터: {trainable_params:,}\")\n",
    "\n",
    "# 손실 함수 및 최적화\n",
    "criterion = nn.CrossEntropyLoss()\n",
    "\n",
    "# AdamW 옵티마이저 (BERT에 최적화)\n",
    "optimizer = optim.AdamW(\n",
    "    model.parameters(),\n",
    "    lr=MODEL_CONFIG['learning_rate'],\n",
    "    weight_decay=MODEL_CONFIG['weight_decay'],\n",
    "    eps=1e-8\n",
    ")\n",
    "\n",
    "# 학습률 스케줄러\n",
    "total_steps = len(train_loader) * MODEL_CONFIG['max_epochs']\n",
    "warmup_steps = int(total_steps * MODEL_CONFIG['warmup_ratio'])\n",
    "\n",
    "scheduler = get_cosine_schedule_with_warmup(\n",
    "    optimizer,\n",
    "    num_warmup_steps=warmup_steps,\n",
    "    num_training_steps=total_steps\n",
    ")\n",
    "\n",
    "print(f\"   전체 스텝: {total_steps:,}\")\n",
    "print(f\"   워밍업 스텝: {warmup_steps:,}\")\n",
    "\n",
    "# 메모리 사용량 체크 함수\n",
    "def check_memory():\n",
    "    if torch.cuda.is_available():\n",
    "        allocated = torch.cuda.memory_allocated(0) / 1024**3\n",
    "        reserved = torch.cuda.memory_reserved(0) / 1024**3\n",
    "        return allocated, reserved\n",
    "    return 0, 0\n",
    "\n",
    "# 훈련 함수\n",
    "def train_epoch(model, train_loader, criterion, optimizer, scheduler, device):\n",
    "    model.train()\n",
    "    total_loss = 0\n",
    "    correct_predictions = 0\n",
    "    total_predictions = 0\n",
    "    \n",
    "    progress_bar = tqdm(train_loader, desc=\"Training\", leave=False)\n",
    "    \n",
    "    for batch in progress_bar:\n",
    "        # 데이터를 GPU로 이동\n",
    "        input_ids = batch['input_ids'].to(device)\n",
    "        attention_mask = batch['attention_mask'].to(device)\n",
    "        labels = batch['label'].to(device)\n",
    "        \n",
    "        # Forward pass\n",
    "        optimizer.zero_grad()\n",
    "        logits = model(input_ids, attention_mask)\n",
    "        loss = criterion(logits, labels)\n",
    "        \n",
    "        # Backward pass\n",
    "        loss.backward()\n",
    "        \n",
    "        # Gradient clipping (안정성을 위해)\n",
    "        torch.nn.utils.clip_grad_norm_(model.parameters(), max_norm=1.0)\n",
    "        \n",
    "        optimizer.step()\n",
    "        scheduler.step()\n",
    "        \n",
    "        # 통계 업데이트\n",
    "        total_loss += loss.item()\n",
    "        predictions = torch.argmax(logits, dim=1)\n",
    "        correct_predictions += (predictions == labels).sum().item()\n",
    "        total_predictions += labels.size(0)\n",
    "        \n",
    "        # 진행 상황 업데이트\n",
    "        current_lr = scheduler.get_last_lr()[0]\n",
    "        progress_bar.set_postfix({\n",
    "            'Loss': f'{loss.item():.4f}',\n",
    "            'Acc': f'{100*correct_predictions/total_predictions:.2f}%',\n",
    "            'LR': f'{current_lr:.2e}'\n",
    "        })\n",
    "    \n",
    "    avg_loss = total_loss / len(train_loader)\n",
    "    accuracy = correct_predictions / total_predictions\n",
    "    \n",
    "    return avg_loss, accuracy\n",
    "\n",
    "# 평가 함수\n",
    "def evaluate(model, data_loader, criterion, device):\n",
    "    model.eval()\n",
    "    total_loss = 0\n",
    "    correct_predictions = 0\n",
    "    total_predictions = 0\n",
    "    all_predictions = []\n",
    "    all_labels = []\n",
    "    \n",
    "    with torch.no_grad():\n",
    "        for batch in tqdm(data_loader, desc=\"Evaluating\", leave=False):\n",
    "            input_ids = batch['input_ids'].to(device)\n",
    "            attention_mask = batch['attention_mask'].to(device)\n",
    "            labels = batch['label'].to(device)\n",
    "            \n",
    "            logits = model(input_ids, attention_mask)\n",
    "            loss = criterion(logits, labels)\n",
    "            \n",
    "            total_loss += loss.item()\n",
    "            predictions = torch.argmax(logits, dim=1)\n",
    "            correct_predictions += (predictions == labels).sum().item()\n",
    "            total_predictions += labels.size(0)\n",
    "            \n",
    "            all_predictions.extend(predictions.cpu().numpy())\n",
    "            all_labels.extend(labels.cpu().numpy())\n",
    "    \n",
    "    avg_loss = total_loss / len(data_loader)\n",
    "    accuracy = correct_predictions / total_predictions\n",
    "    f1 = f1_score(all_labels, all_predictions, average='weighted')\n",
    "    \n",
    "    return avg_loss, accuracy, f1, all_predictions, all_labels"
   ]
  },
  {
   "cell_type": "code",
   "execution_count": 23,
   "id": "c817ec81",
   "metadata": {},
   "outputs": [
    {
     "name": "stdout",
     "output_type": "stream",
     "text": [
      "\n",
      "================================================================================\n",
      "🚀 BERT Fine-tuning 시작!\n",
      "================================================================================\n",
      "초기 GPU 메모리 - 할당: 2.85GB, 예약: 2.90GB\n",
      "\n",
      "📍 Epoch 1/100\n",
      "------------------------------------------------------------\n"
     ]
    },
    {
     "data": {
      "application/vnd.jupyter.widget-view+json": {
       "model_id": "2f1b61de50404d44adb6651e9d1efb62",
       "version_major": 2,
       "version_minor": 0
      },
      "text/plain": [
       "Training:   0%|          | 0/704 [00:00<?, ?it/s]"
      ]
     },
     "metadata": {},
     "output_type": "display_data"
    },
    {
     "data": {
      "application/vnd.jupyter.widget-view+json": {
       "model_id": "f588dcb597214138929313bbc3345677",
       "version_major": 2,
       "version_minor": 0
      },
      "text/plain": [
       "Evaluating:   0%|          | 0/79 [00:00<?, ?it/s]"
      ]
     },
     "metadata": {},
     "output_type": "display_data"
    },
    {
     "name": "stdout",
     "output_type": "stream",
     "text": [
      "훈련   - Loss: 0.5775, Accuracy: 0.6583 (65.83%)\n",
      "검증   - Loss: 0.2772, Accuracy: 0.8920 (89.20%), F1: 0.9429\n",
      "시간   - Epoch: 311.9s, 총: 5.2분\n",
      "메모리 - GPU: 3.62GB / 5.94GB\n",
      "🏆 새로운 최고 성능! 검증 정확도: 0.8920\n",
      "\n",
      "📍 Epoch 2/100\n",
      "------------------------------------------------------------\n"
     ]
    },
    {
     "data": {
      "application/vnd.jupyter.widget-view+json": {
       "model_id": "f99718334d384543aae64873c435f5cb",
       "version_major": 2,
       "version_minor": 0
      },
      "text/plain": [
       "Training:   0%|          | 0/704 [00:00<?, ?it/s]"
      ]
     },
     "metadata": {},
     "output_type": "display_data"
    },
    {
     "data": {
      "application/vnd.jupyter.widget-view+json": {
       "model_id": "22fa198d18714d6397eebb0b744d8f9d",
       "version_major": 2,
       "version_minor": 0
      },
      "text/plain": [
       "Evaluating:   0%|          | 0/79 [00:00<?, ?it/s]"
      ]
     },
     "metadata": {},
     "output_type": "display_data"
    },
    {
     "name": "stdout",
     "output_type": "stream",
     "text": [
      "훈련   - Loss: 0.2917, Accuracy: 0.8821 (88.21%)\n",
      "검증   - Loss: 0.3249, Accuracy: 0.8660 (86.60%), F1: 0.9282\n",
      "시간   - Epoch: 312.6s, 총: 10.4분\n",
      "메모리 - GPU: 3.62GB / 5.94GB\n",
      "⏳ 개선되지 않음 (1/3)\n",
      "\n",
      "📍 Epoch 3/100\n",
      "------------------------------------------------------------\n"
     ]
    },
    {
     "data": {
      "application/vnd.jupyter.widget-view+json": {
       "model_id": "3601577a627645828c3db0a3bff4d282",
       "version_major": 2,
       "version_minor": 0
      },
      "text/plain": [
       "Training:   0%|          | 0/704 [00:00<?, ?it/s]"
      ]
     },
     "metadata": {},
     "output_type": "display_data"
    },
    {
     "data": {
      "application/vnd.jupyter.widget-view+json": {
       "model_id": "da66a3f274ae4cf99685b9385166a176",
       "version_major": 2,
       "version_minor": 0
      },
      "text/plain": [
       "Evaluating:   0%|          | 0/79 [00:00<?, ?it/s]"
      ]
     },
     "metadata": {},
     "output_type": "display_data"
    },
    {
     "name": "stdout",
     "output_type": "stream",
     "text": [
      "훈련   - Loss: 0.2442, Accuracy: 0.9022 (90.22%)\n",
      "검증   - Loss: 0.2271, Accuracy: 0.9104 (91.04%), F1: 0.9531\n",
      "시간   - Epoch: 312.1s, 총: 15.6분\n",
      "메모리 - GPU: 3.62GB / 5.94GB\n",
      "🏆 새로운 최고 성능! 검증 정확도: 0.9104\n",
      "\n",
      "📍 Epoch 4/100\n",
      "------------------------------------------------------------\n"
     ]
    },
    {
     "data": {
      "application/vnd.jupyter.widget-view+json": {
       "model_id": "0e16f427d1454c03a4996c69ea2c1589",
       "version_major": 2,
       "version_minor": 0
      },
      "text/plain": [
       "Training:   0%|          | 0/704 [00:00<?, ?it/s]"
      ]
     },
     "metadata": {},
     "output_type": "display_data"
    },
    {
     "data": {
      "application/vnd.jupyter.widget-view+json": {
       "model_id": "3ae29ea26afc4792bce5707dfd6c671d",
       "version_major": 2,
       "version_minor": 0
      },
      "text/plain": [
       "Evaluating:   0%|          | 0/79 [00:00<?, ?it/s]"
      ]
     },
     "metadata": {},
     "output_type": "display_data"
    },
    {
     "name": "stdout",
     "output_type": "stream",
     "text": [
      "훈련   - Loss: 0.2038, Accuracy: 0.9220 (92.20%)\n",
      "검증   - Loss: 0.2058, Accuracy: 0.9200 (92.00%), F1: 0.9583\n",
      "시간   - Epoch: 315.4s, 총: 20.9분\n",
      "메모리 - GPU: 3.62GB / 5.94GB\n",
      "🏆 새로운 최고 성능! 검증 정확도: 0.9200\n",
      "\n",
      "📍 Epoch 5/100\n",
      "------------------------------------------------------------\n"
     ]
    },
    {
     "data": {
      "application/vnd.jupyter.widget-view+json": {
       "model_id": "a80e5e6f17a54387b99f91c727d043f6",
       "version_major": 2,
       "version_minor": 0
      },
      "text/plain": [
       "Training:   0%|          | 0/704 [00:00<?, ?it/s]"
      ]
     },
     "metadata": {},
     "output_type": "display_data"
    },
    {
     "data": {
      "application/vnd.jupyter.widget-view+json": {
       "model_id": "a8e0c6d4216e450595738b895b86fd89",
       "version_major": 2,
       "version_minor": 0
      },
      "text/plain": [
       "Evaluating:   0%|          | 0/79 [00:00<?, ?it/s]"
      ]
     },
     "metadata": {},
     "output_type": "display_data"
    },
    {
     "name": "stdout",
     "output_type": "stream",
     "text": [
      "훈련   - Loss: 0.1640, Accuracy: 0.9405 (94.05%)\n",
      "검증   - Loss: 0.2665, Accuracy: 0.9036 (90.36%), F1: 0.9494\n",
      "시간   - Epoch: 319.9s, 총: 26.2분\n",
      "메모리 - GPU: 3.62GB / 5.94GB\n",
      "⏳ 개선되지 않음 (1/3)\n",
      "\n",
      "📍 Epoch 6/100\n",
      "------------------------------------------------------------\n"
     ]
    },
    {
     "data": {
      "application/vnd.jupyter.widget-view+json": {
       "model_id": "e3f80a97638149c980fa61c8900aab9d",
       "version_major": 2,
       "version_minor": 0
      },
      "text/plain": [
       "Training:   0%|          | 0/704 [00:00<?, ?it/s]"
      ]
     },
     "metadata": {},
     "output_type": "display_data"
    },
    {
     "data": {
      "application/vnd.jupyter.widget-view+json": {
       "model_id": "25282813f9844a16976b8501361de29c",
       "version_major": 2,
       "version_minor": 0
      },
      "text/plain": [
       "Evaluating:   0%|          | 0/79 [00:00<?, ?it/s]"
      ]
     },
     "metadata": {},
     "output_type": "display_data"
    },
    {
     "name": "stdout",
     "output_type": "stream",
     "text": [
      "훈련   - Loss: 0.1179, Accuracy: 0.9582 (95.82%)\n",
      "검증   - Loss: 0.4558, Accuracy: 0.8784 (87.84%), F1: 0.9353\n",
      "시간   - Epoch: 313.8s, 총: 31.5분\n",
      "메모리 - GPU: 3.62GB / 5.94GB\n",
      "⏳ 개선되지 않음 (2/3)\n",
      "\n",
      "📍 Epoch 7/100\n",
      "------------------------------------------------------------\n"
     ]
    },
    {
     "data": {
      "application/vnd.jupyter.widget-view+json": {
       "model_id": "6051ed2b6223477b80bdc23424239e6e",
       "version_major": 2,
       "version_minor": 0
      },
      "text/plain": [
       "Training:   0%|          | 0/704 [00:00<?, ?it/s]"
      ]
     },
     "metadata": {},
     "output_type": "display_data"
    },
    {
     "data": {
      "application/vnd.jupyter.widget-view+json": {
       "model_id": "929c20609b374833b850183f00eed84e",
       "version_major": 2,
       "version_minor": 0
      },
      "text/plain": [
       "Evaluating:   0%|          | 0/79 [00:00<?, ?it/s]"
      ]
     },
     "metadata": {},
     "output_type": "display_data"
    },
    {
     "name": "stdout",
     "output_type": "stream",
     "text": [
      "훈련   - Loss: 0.0874, Accuracy: 0.9730 (97.30%)\n",
      "검증   - Loss: 0.4293, Accuracy: 0.8892 (88.92%), F1: 0.9414\n",
      "시간   - Epoch: 310.5s, 총: 36.7분\n",
      "메모리 - GPU: 3.62GB / 5.94GB\n",
      "⏳ 개선되지 않음 (3/3)\n",
      "⏹️ Early stopping 발동 (patience: 3)\n",
      "\n",
      "✅ 훈련 완료! 총 시간: 36.7분\n",
      "🏆 최고 검증 정확도: 0.9200 (92.00%)\n",
      "✅ 최고 성능 모델로 복원 완료\n",
      "\n",
      "================================================================================\n",
      "📊 최종 테스트 평가\n",
      "================================================================================\n"
     ]
    },
    {
     "data": {
      "application/vnd.jupyter.widget-view+json": {
       "model_id": "0537f1eaf7c643ffbf31d5cef49f7cbf",
       "version_major": 2,
       "version_minor": 0
      },
      "text/plain": [
       "Evaluating:   0%|          | 0/782 [00:00<?, ?it/s]"
      ]
     },
     "metadata": {},
     "output_type": "display_data"
    },
    {
     "name": "stdout",
     "output_type": "stream",
     "text": [
      "테스트 결과:\n",
      "   Loss: 0.3790\n",
      "   Accuracy: 0.9016 (90.16%)\n",
      "   F1-Score: 0.9016\n"
     ]
    }
   ],
   "source": [
    "# 훈련 시작\n",
    "print(\"\\n\" + \"=\"*80)\n",
    "print(\"🚀 BERT Fine-tuning 시작!\")\n",
    "print(\"=\"*80)\n",
    "\n",
    "# 훈련 기록\n",
    "train_losses = []\n",
    "val_losses = []\n",
    "train_accuracies = []\n",
    "val_accuracies = []\n",
    "val_f1_scores = []\n",
    "\n",
    "best_val_accuracy = 0.0\n",
    "best_model_state = None\n",
    "patience_counter = 0\n",
    "start_time = time.time()\n",
    "\n",
    "# 메모리 초기 상태\n",
    "initial_allocated, initial_reserved = check_memory()\n",
    "print(f\"초기 GPU 메모리 - 할당: {initial_allocated:.2f}GB, 예약: {initial_reserved:.2f}GB\")\n",
    "\n",
    "for epoch in range(MODEL_CONFIG['max_epochs']):\n",
    "    epoch_start_time = time.time()\n",
    "    \n",
    "    print(f\"\\n📍 Epoch {epoch+1}/{MODEL_CONFIG['max_epochs']}\")\n",
    "    print(\"-\" * 60)\n",
    "    \n",
    "    # 훈련\n",
    "    train_loss, train_acc = train_epoch(model, train_loader, criterion, optimizer, scheduler, device)\n",
    "    \n",
    "    # 검증\n",
    "    val_loss, val_acc, val_f1, _, _ = evaluate(model, val_loader, criterion, device)\n",
    "    \n",
    "    # 기록 저장\n",
    "    train_losses.append(train_loss)\n",
    "    val_losses.append(val_loss)\n",
    "    train_accuracies.append(train_acc)\n",
    "    val_accuracies.append(val_acc)\n",
    "    val_f1_scores.append(val_f1)\n",
    "    \n",
    "    # 시간 계산\n",
    "    epoch_time = time.time() - epoch_start_time\n",
    "    elapsed_time = time.time() - start_time\n",
    "    \n",
    "    # 메모리 체크\n",
    "    allocated, reserved = check_memory()\n",
    "    \n",
    "    print(f\"훈련   - Loss: {train_loss:.4f}, Accuracy: {train_acc:.4f} ({train_acc*100:.2f}%)\")\n",
    "    print(f\"검증   - Loss: {val_loss:.4f}, Accuracy: {val_acc:.4f} ({val_acc*100:.2f}%), F1: {val_f1:.4f}\")\n",
    "    print(f\"시간   - Epoch: {epoch_time:.1f}s, 총: {elapsed_time/60:.1f}분\")\n",
    "    print(f\"메모리 - GPU: {allocated:.2f}GB / {reserved:.2f}GB\")\n",
    "    \n",
    "    # 최고 성능 모델 저장\n",
    "    if val_acc > best_val_accuracy:\n",
    "        best_val_accuracy = val_acc\n",
    "        best_model_state = model.state_dict().copy()\n",
    "        patience_counter = 0\n",
    "        print(f\"🏆 새로운 최고 성능! 검증 정확도: {best_val_accuracy:.4f}\")\n",
    "        torch.save(best_model_state, 'best_sentiment_model.pth')\n",
    "    else:\n",
    "        patience_counter += 1\n",
    "        print(f\"⏳ 개선되지 않음 ({patience_counter}/{MODEL_CONFIG['patience']})\")\n",
    "    \n",
    "    # 목표 정확도 달성 체크\n",
    "    if val_acc >= MODEL_CONFIG['target_accuracy']:\n",
    "        print(f\"🎯 목표 정확도 {MODEL_CONFIG['target_accuracy']:.1%} 달성!\")\n",
    "        break\n",
    "    \n",
    "    # Early stopping\n",
    "    if patience_counter >= MODEL_CONFIG['patience']:\n",
    "        print(f\"⏹️ Early stopping 발동 (patience: {MODEL_CONFIG['patience']})\")\n",
    "        break\n",
    "    \n",
    "    # 메모리 정리\n",
    "    gc.collect()\n",
    "    torch.cuda.empty_cache()\n",
    "\n",
    "total_time = time.time() - start_time\n",
    "print(f\"\\n✅ 훈련 완료! 총 시간: {total_time/60:.1f}분\")\n",
    "print(f\"🏆 최고 검증 정확도: {best_val_accuracy:.4f} ({best_val_accuracy*100:.2f}%)\")\n",
    "\n",
    "# 최고 성능 모델로 복원\n",
    "if best_model_state is not None:\n",
    "    model.load_state_dict(best_model_state)\n",
    "    print(\"✅ 최고 성능 모델로 복원 완료\")\n",
    "\n",
    "# 최종 테스트 평가\n",
    "print(\"\\n\" + \"=\"*80)\n",
    "print(\"📊 최종 테스트 평가\")\n",
    "print(\"=\"*80)\n",
    "\n",
    "test_loss, test_acc, test_f1, test_predictions, test_labels = evaluate(model, test_loader, criterion, device)\n",
    "\n",
    "print(f\"테스트 결과:\")\n",
    "print(f\"   Loss: {test_loss:.4f}\")\n",
    "print(f\"   Accuracy: {test_acc:.4f} ({test_acc*100:.2f}%)\")\n",
    "print(f\"   F1-Score: {test_f1:.4f}\")"
   ]
  },
  {
   "cell_type": "code",
   "execution_count": 24,
   "id": "38b56a59",
   "metadata": {},
   "outputs": [
    {
     "name": "stdout",
     "output_type": "stream",
     "text": [
      "\n",
      "📋 상세 분류 리포트:\n",
      "              precision    recall  f1-score   support\n",
      "\n",
      "          부정       0.90      0.90      0.90     12500\n",
      "          긍정       0.90      0.90      0.90     12500\n",
      "\n",
      "    accuracy                           0.90     25000\n",
      "   macro avg       0.90      0.90      0.90     25000\n",
      "weighted avg       0.90      0.90      0.90     25000\n",
      "\n"
     ]
    },
    {
     "data": {
      "image/png": "[encoded data removed]",
      "text/plain": [
       "<Figure size 2000x500 with 5 Axes>"
      ]
     },
     "metadata": {},
     "output_type": "display_data"
    }
   ],
   "source": [
    "# 상세 분류 리포트\n",
    "print(f\"\\n📋 상세 분류 리포트:\")\n",
    "target_names = ['부정', '긍정']\n",
    "print(classification_report(test_labels, test_predictions, target_names=target_names))\n",
    "\n",
    "# 학습 곡선 시각화\n",
    "plt.figure(figsize=(20, 5))\n",
    "\n",
    "# Loss 곡선\n",
    "plt.subplot(1, 4, 1)\n",
    "plt.plot(train_losses, label='Train Loss', color='blue', linewidth=2)\n",
    "plt.plot(val_losses, label='Validation Loss', color='red', linewidth=2)\n",
    "plt.title('학습/검증 Loss', fontsize=14, fontweight='bold')\n",
    "plt.xlabel('Epoch')\n",
    "plt.ylabel('Loss')\n",
    "plt.legend()\n",
    "plt.grid(True, alpha=0.3)\n",
    "\n",
    "# Accuracy 곡선\n",
    "plt.subplot(1, 4, 2)\n",
    "plt.plot([acc*100 for acc in train_accuracies], label='Train Accuracy', color='blue', linewidth=2)\n",
    "plt.plot([acc*100 for acc in val_accuracies], label='Validation Accuracy', color='red', linewidth=2)\n",
    "plt.axhline(y=MODEL_CONFIG['target_accuracy']*100, color='green', linestyle='--', label=f\"목표 ({MODEL_CONFIG['target_accuracy']*100:.1f}%)\")\n",
    "plt.title('학습/검증 정확도', fontsize=14, fontweight='bold')\n",
    "plt.xlabel('Epoch')\n",
    "plt.ylabel('Accuracy (%)')\n",
    "plt.legend()\n",
    "plt.grid(True, alpha=0.3)\n",
    "\n",
    "# F1-Score 곡선\n",
    "plt.subplot(1, 4, 3)\n",
    "plt.plot([f1*100 for f1 in val_f1_scores], label='Validation F1', color='green', linewidth=2)\n",
    "plt.title('검증 F1-Score', fontsize=14, fontweight='bold')\n",
    "plt.xlabel('Epoch')\n",
    "plt.ylabel('F1-Score (%)')\n",
    "plt.legend()\n",
    "plt.grid(True, alpha=0.3)\n",
    "\n",
    "# 혼동 행렬\n",
    "plt.subplot(1, 4, 4)\n",
    "cm = confusion_matrix(test_labels, test_predictions)\n",
    "sns.heatmap(cm, annot=True, fmt='d', cmap='Blues', \n",
    "            xticklabels=target_names, yticklabels=target_names,\n",
    "            cbar_kws={'label': 'Count'})\n",
    "plt.title('혼동 행렬', fontsize=14, fontweight='bold')\n",
    "plt.xlabel('예측')\n",
    "plt.ylabel('실제')\n",
    "\n",
    "plt.tight_layout()\n",
    "plt.show()\n",
    "\n",
    "# 실시간 감정 분석 함수\n",
    "def predict_sentiment(text, model, tokenizer, device, max_length=256):\n",
    "    model.eval()\n",
    "    \n",
    "    # 토큰화\n",
    "    encoding = tokenizer(\n",
    "        text,\n",
    "        add_special_tokens=True,\n",
    "        max_length=max_length,\n",
    "        padding='max_length',\n",
    "        truncation=True,\n",
    "        return_attention_mask=True,\n",
    "        return_tensors='pt'\n",
    "    )\n",
    "    \n",
    "    input_ids = encoding['input_ids'].to(device)\n",
    "    attention_mask = encoding['attention_mask'].to(device)\n",
    "    \n",
    "    with torch.no_grad():\n",
    "        logits = model(input_ids, attention_mask)\n",
    "        probabilities = torch.softmax(logits, dim=1)\n",
    "        predicted_class = torch.argmax(probabilities, dim=1).item()\n",
    "        confidence = probabilities[0][predicted_class].item()\n",
    "    \n",
    "    sentiment = \"긍정\" if predicted_class == 1 else \"부정\"\n",
    "    return sentiment, confidence, probabilities[0].cpu().numpy()"
   ]
  },
  {
   "cell_type": "code",
   "execution_count": 25,
   "id": "dbde75a4",
   "metadata": {},
   "outputs": [
    {
     "name": "stdout",
     "output_type": "stream",
     "text": [
      "\n",
      "================================================================================\n",
      "🎭 실시간 감정 분석 테스트\n",
      "================================================================================\n",
      "📝 텍스트: 'This movie is absolutely fantastic! I loved every minute of it.'\n",
      "🎯 예측: 긍정 (신뢰도: 0.985)\n",
      "📊 확률: 부정 0.015, 긍정 0.985\n",
      "------------------------------------------------------------\n",
      "📝 텍스트: 'What a terrible waste of time. Boring and pointless.'\n",
      "🎯 예측: 부정 (신뢰도: 0.999)\n",
      "📊 확률: 부정 0.999, 긍정 0.001\n",
      "------------------------------------------------------------\n",
      "📝 텍스트: 'The plot was okay, but the acting was amazing.'\n",
      "🎯 예측: 긍정 (신뢰도: 0.951)\n",
      "📊 확률: 부정 0.049, 긍정 0.951\n",
      "------------------------------------------------------------\n",
      "📝 텍스트: 'I fell asleep halfway through. Not recommended.'\n",
      "🎯 예측: 부정 (신뢰도: 0.994)\n",
      "📊 확률: 부정 0.994, 긍정 0.006\n",
      "------------------------------------------------------------\n",
      "📝 텍스트: 'One of the best films I've ever seen. Highly recommended!'\n",
      "🎯 예측: 긍정 (신뢰도: 0.997)\n",
      "📊 확률: 부정 0.003, 긍정 0.997\n",
      "------------------------------------------------------------\n",
      "📝 텍스트: 'The movie was decent, nothing special though.'\n",
      "🎯 예측: 부정 (신뢰도: 0.893)\n",
      "📊 확률: 부정 0.893, 긍정 0.107\n",
      "------------------------------------------------------------\n",
      "📝 텍스트: 'Brilliant cinematography and outstanding performances.'\n",
      "🎯 예측: 긍정 (신뢰도: 0.995)\n",
      "📊 확률: 부정 0.005, 긍정 0.995\n",
      "------------------------------------------------------------\n",
      "📝 텍스트: 'Completely disappointed. Expected much better.'\n",
      "🎯 예측: 부정 (신뢰도: 0.988)\n",
      "📊 확률: 부정 0.988, 긍정 0.012\n",
      "------------------------------------------------------------\n",
      "\n",
      "================================================================================\n",
      "📈 최종 성능 요약\n",
      "================================================================================\n",
      "🎯 목표 정확도: 93.0%\n",
      "🏆 달성 정확도: 90.16%\n",
      "⏱️  총 훈련 시간: 36.7분\n",
      "🔧 사용된 에포크: 7/100\n",
      "💾 GPU 메모리 사용: 3.62GB\n",
      "🚀 GPU 활용률: 30.1%\n"
     ]
    }
   ],
   "source": [
    "# 감정 분석 테스트\n",
    "print(\"\\n\" + \"=\"*80)\n",
    "print(\"🎭 실시간 감정 분석 테스트\")\n",
    "print(\"=\"*80)\n",
    "\n",
    "test_texts = [\n",
    "    \"This movie is absolutely fantastic! I loved every minute of it.\",\n",
    "    \"What a terrible waste of time. Boring and pointless.\",\n",
    "    \"The plot was okay, but the acting was amazing.\",\n",
    "    \"I fell asleep halfway through. Not recommended.\",\n",
    "    \"One of the best films I've ever seen. Highly recommended!\",\n",
    "    \"The movie was decent, nothing special though.\",\n",
    "    \"Brilliant cinematography and outstanding performances.\",\n",
    "    \"Completely disappointed. Expected much better.\"\n",
    "]\n",
    "\n",
    "for text in test_texts:\n",
    "    sentiment, confidence, probs = predict_sentiment(text, model, tokenizer, device)\n",
    "    print(f\"📝 텍스트: '{text}'\")\n",
    "    print(f\"🎯 예측: {sentiment} (신뢰도: {confidence:.3f})\")\n",
    "    print(f\"📊 확률: 부정 {probs[0]:.3f}, 긍정 {probs[1]:.3f}\")\n",
    "    print(\"-\" * 60)\n",
    "\n",
    "# 최종 성능 요약\n",
    "print(\"\\n\" + \"=\"*80)\n",
    "print(\"📈 최종 성능 요약\")\n",
    "print(\"=\"*80)\n",
    "\n",
    "final_allocated, final_reserved = check_memory()\n",
    "\n",
    "print(f\"🎯 목표 정확도: {MODEL_CONFIG['target_accuracy']*100:.1f}%\")\n",
    "print(f\"🏆 달성 정확도: {test_acc*100:.2f}%\")\n",
    "print(f\"⏱️  총 훈련 시간: {total_time/60:.1f}분\")\n",
    "print(f\"🔧 사용된 에포크: {len(train_losses)}/{MODEL_CONFIG['max_epochs']}\")\n",
    "print(f\"💾 GPU 메모리 사용: {final_allocated:.2f}GB\")\n",
    "print(f\"🚀 GPU 활용률: {(final_allocated/12)*100:.1f}%\")"
   ]
  },
  {
   "cell_type": "code",
   "execution_count": 26,
   "id": "121fb0b5",
   "metadata": {},
   "outputs": [
    {
     "name": "stdout",
     "output_type": "stream",
     "text": [
      "💾 모델 저장 완료: sentiment_bert_final_20250705_094927.pth\n",
      "\n",
      "🎉 BERT Fine-tuning 완료! RTX 3060 성능을 최대한 활용했습니다!\n"
     ]
    }
   ],
   "source": [
    "# 모델 저장\n",
    "model_save_path = f\"sentiment_bert_final_{datetime.now().strftime('%Y%m%d_%H%M%S')}.pth\"\n",
    "torch.save({\n",
    "    'model_state_dict': model.state_dict(),\n",
    "    'model_config': MODEL_CONFIG,\n",
    "    'test_accuracy': test_acc,\n",
    "    'test_f1': test_f1,\n",
    "    'vocab_size': tokenizer.vocab_size\n",
    "}, model_save_path)\n",
    "\n",
    "print(f\"💾 모델 저장 완료: {model_save_path}\")\n",
    "print(\"\\n🎉 BERT Fine-tuning 완료! RTX 3060 성능을 최대한 활용했습니다!\")"
   ]
  },
  {
   "cell_type": "code",
   "execution_count": null,
   "id": "bac35b8f",
   "metadata": {},
   "outputs": [],
   "source": []
  }
 ],
 "metadata": {
  "kernelspec": {
   "display_name": "beethoven",
   "language": "python",
   "name": "python3"
  },
  "language_info": {
   "codemirror_mode": {
    "name": "ipython",
    "version": 3
   },
   "file_extension": ".py",
   "mimetype": "text/x-python",
   "name": "python",
   "nbconvert_exporter": "python",
   "pygments_lexer": "ipython3",
   "version": "3.11.9"
  }
 },
 "nbformat": 4,
 "nbformat_minor": 5
}
